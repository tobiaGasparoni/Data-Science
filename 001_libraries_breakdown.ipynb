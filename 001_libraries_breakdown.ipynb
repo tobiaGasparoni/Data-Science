{
 "cells": [
  {
   "cell_type": "code",
   "execution_count": 12,
   "id": "bc2166c0-43b6-4b98-9e9b-d8f28e9f2a61",
   "metadata": {},
   "outputs": [],
   "source": [
    "# Allows work with multidimensional arrays\n",
    "import numpy as np\n",
    "# Organizes data in a tabular form and attaches descriptive labels to the rows and columns\n",
    "import pandas as pd\n",
    "# Python ecosystem containing a lot of tools for scientific calculations\n",
    "import scipy\n",
    "# Built on top of NumPy and SciPy, it integrates with pandas to provide very good summaries\n",
    "# to make statistical models and regressions\n",
    "import statsmodels.api as sm\n",
    "# 2D plotting library especially designed for visualization of NumPy computations\n",
    "import matplotlib as plt\n",
    "# Python visualization library based on matplotlib that provides a high-level interface for\n",
    "# drawing attracitve statistical graphics\n",
    "import seaborn as sns\n",
    "# one of the most widely used machine learning libraries.\n",
    "import sklearn"
   ]
  }
 ],
 "metadata": {
  "kernelspec": {
   "display_name": "Python 3 (ipykernel)",
   "language": "python",
   "name": "python3"
  },
  "language_info": {
   "codemirror_mode": {
    "name": "ipython",
    "version": 3
   },
   "file_extension": ".py",
   "mimetype": "text/x-python",
   "name": "python",
   "nbconvert_exporter": "python",
   "pygments_lexer": "ipython3",
   "version": "3.11.6"
  }
 },
 "nbformat": 4,
 "nbformat_minor": 5
}
